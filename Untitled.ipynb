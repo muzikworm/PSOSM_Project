{
 "cells": [
  {
   "cell_type": "code",
   "execution_count": 22,
   "metadata": {
    "collapsed": true
   },
   "outputs": [],
   "source": [
    "import requests\n",
    "import json\n",
    "from bs4 import BeautifulSoup"
   ]
  },
  {
   "cell_type": "code",
   "execution_count": 26,
   "metadata": {
    "collapsed": true
   },
   "outputs": [],
   "source": [
    "username = \"a3mayank\"\n",
    "link = \"https://www.instagram.com/\" + username\n",
    "req = requests.get(link).text\n",
    "soup = BeautifulSoup(req, \"html.parser\")\n"
   ]
  },
  {
   "cell_type": "code",
   "execution_count": 29,
   "metadata": {},
   "outputs": [
    {
     "name": "stdout",
     "output_type": "stream",
     "text": [
      "['176 Followers', '256 Following', '53 Posts - See Instagram photos and videos from Mayank Attri (@a3mayank)']\n",
      "Mayank Attri\n",
      "Followers : 176\n",
      "Following : 256\n",
      "Post : 53\n"
     ]
    }
   ],
   "source": [
    "for i in soup.find_all('meta') :\n",
    "    try :\n",
    "        if \"Followers\" in i['content']  :\n",
    "            data = i['content'].split(\", \")\n",
    "            print(data)\n",
    "            print (data[-1].split(\" \")[-3] + \" \" + data[-1].split(\" \")[-2])\n",
    "           \n",
    "        print (\"Followers : \" + data[0].split(\" \")[0])\n",
    "        print (\"Following : \" + data[1].split(\" \")[0])\n",
    "        print (\"Post : \" + data[2].split(\" \")[0])\n",
    "        data = ''\n",
    "        break\n",
    "    except :\n",
    "        pass\n",
    "\n"
   ]
  },
  {
   "cell_type": "code",
   "execution_count": 30,
   "metadata": {},
   "outputs": [
    {
     "ename": "SyntaxError",
     "evalue": "Missing parentheses in call to 'print' (<ipython-input-30-e6aff7fec391>, line 10)",
     "output_type": "error",
     "traceback": [
      "\u001b[1;36m  File \u001b[1;32m\"<ipython-input-30-e6aff7fec391>\"\u001b[1;36m, line \u001b[1;32m10\u001b[0m\n\u001b[1;33m    print \"Name :\\t\" + name + \"\\n\"\u001b[0m\n\u001b[1;37m                   ^\u001b[0m\n\u001b[1;31mSyntaxError\u001b[0m\u001b[1;31m:\u001b[0m Missing parentheses in call to 'print'\n"
     ]
    }
   ],
   "source": [
    "script = str(soup.find_all('script')[1])\n",
    "data = json.loads(script[52:-10])\n",
    "profile = data['entry_data']['ProfilePage']\n",
    "for i in profile :\n",
    "    name = i['user']['full_name']\n",
    "    id = i['user']['id']\n",
    "    bio = i['user']['biography']\n",
    "    posts_cnt = int(i['user']['media']['count'])\n",
    "    nodes = i['user']['media']['nodes']\n",
    "    print \"Name :\\t\" + name + \"\\n\"\n",
    "    print \"Id :\\t\" + id + \"\\n\"\n",
    "    print \"Bio :\\t\" + bio + \"\\n\"\n",
    "    print \"Posts Count :\\t\",posts_cnt,\"\\n\"\n",
    "    \n",
    "    ind = posts_cnt\n",
    "    for node in nodes :\n",
    "        comments = node['comments']['count']\n",
    "        likes = node['likes']['count']\n",
    "        print (\"Post \", ind)\n",
    "        print (\"Likes : \", likes)\n",
    "        print (\"Comments : \", comments, \"\\n\")\n",
    "        ind -= 1\n",
    "    "
   ]
  },
  {
   "cell_type": "code",
   "execution_count": null,
   "metadata": {
    "collapsed": true
   },
   "outputs": [],
   "source": []
  }
 ],
 "metadata": {
  "kernelspec": {
   "display_name": "Python 3",
   "language": "python",
   "name": "python3"
  },
  "language_info": {
   "codemirror_mode": {
    "name": "ipython",
    "version": 3
   },
   "file_extension": ".py",
   "mimetype": "text/x-python",
   "name": "python",
   "nbconvert_exporter": "python",
   "pygments_lexer": "ipython3",
   "version": "3.6.1"
  }
 },
 "nbformat": 4,
 "nbformat_minor": 2
}
