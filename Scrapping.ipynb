{
 "cells": [
  {
   "cell_type": "code",
   "execution_count": 91,
   "metadata": {
    "collapsed": true
   },
   "outputs": [],
   "source": [
    "import requests\n",
    "import json\n",
    "from bs4 import BeautifulSoup\n",
    "import pymongo\n",
    "connection = pymongo.MongoClient(\"mongodb://localhost\")\n",
    "db = connection.user_data\n"
   ]
  },
  {
   "cell_type": "code",
   "execution_count": 74,
   "metadata": {},
   "outputs": [
    {
     "name": "stdout",
     "output_type": "stream",
     "text": [
      "{'username': 'sahilruhela', 'name': 'Sahil Ruhela', 'followers': '227', 'following': '338', 'post': '74', 'bio': '\"Dream girl\"', 'avg_likes': 38.5, 'avg_comments': 2.8}\n"
     ]
    },
    {
     "name": "stderr",
     "output_type": "stream",
     "text": [
      "C:\\ProgramData\\Anaconda3\\lib\\site-packages\\ipykernel_launcher.py:47: DeprecationWarning: insert is deprecated. Use insert_one or insert_many instead.\n"
     ]
    },
    {
     "name": "stdout",
     "output_type": "stream",
     "text": [
      "{'username': 'charu_pathak', 'name': 'ChaRu PathAk', 'followers': '31', 'following': '8', 'post': '10', 'bio': None, 'avg_likes': 9.8, 'avg_comments': 0.2}\n",
      "{'username': 'karan_datt', 'name': 'Karan Datt', 'followers': '314', 'following': '168', 'post': '93', 'bio': None, 'avg_likes': 59.1, 'avg_comments': 1.5}\n",
      "{'username': 'sahilruhela', 'name': 'Sahil Ruhela', 'followers': '227', 'following': '338', 'post': '74', 'bio': '\"Dream girl\"', 'avg_likes': 38.5, 'avg_comments': 2.8}\n",
      "{'username': 'vaibhav.gupta9395', 'name': 'VAIBHAV GUPTA', 'followers': '447', 'following': '299', 'post': '177', 'bio': '➡Delhite\\n➡Strictly Non-alcoholic \\n➡Wish me on 9th March🍰\\n➡👻: vaibhav.gupta95', 'avg_likes': 45.8, 'avg_comments': 4.3}\n",
      "{'username': 'pulkitrohilla', 'name': 'Pulkit Rohilla', 'followers': '207', 'following': '364', 'post': '37', 'bio': None, 'avg_likes': 37.8, 'avg_comments': 2.4}\n",
      "{'username': 'a3mayank', 'name': 'Mayank Attri', 'followers': '176', 'following': '256', 'post': '53', 'bio': '• Delhite • 🇮🇳\\n• Ex-KVian • | • IIITian • 📚\\n• Programmer • | • Developer • 💻\\n• Valar Morghulis •', 'avg_likes': 65.9, 'avg_comments': 3.4}\n",
      "{'username': 'siddhant.gandhi', 'name': 'Siddhant Gandhi', 'followers': '413', 'following': '103', 'post': '23', 'bio': 'Namaste.', 'avg_likes': 44.1, 'avg_comments': 0.4}\n",
      "{'username': 'sach1n_delhiite', 'name': 'Sachin Srivastava', 'followers': '261', 'following': '438', 'post': '142', 'bio': 'Founder - FIRST DRAFT | Actor/Director @ Freelancer | TVF Delhi | Fiction Goon Films | Theatre Artist | Avid Reader | Engineer (unfortunately)', 'avg_likes': 80.7, 'avg_comments': 1.1}\n",
      "{'username': 'rishabhvarshneyrv', 'name': 'Rishabh Varshney', 'followers': '326', 'following': '269', 'post': '235', 'bio': 'Actor, Director & Script writer', 'avg_likes': 69.2, 'avg_comments': 1.4}\n",
      "{'username': 'nikkuuu17', 'name': 'NIHARIKA ð\\x9f\\x91\\x91', 'followers': '628', 'following': '192', 'post': '127', 'bio': '17 Feb 🎂\\n18 💪 // Dilli wali hu! ❤❤\\n❤ Ranveer Singh ❤', 'avg_likes': 156.3, 'avg_comments': 16.5}\n"
     ]
    }
   ],
   "source": [
    "#5 instagram handles with >100 followers\n",
    "record = db.user_data_100\n",
    "username =['sahilruhela', 'charu_pathak','karan_datt','sahilruhela','vaibhav.gupta9395','pulkitrohilla','a3mayank','siddhant.gandhi',\n",
    "           'sach1n_delhiite','rishabhvarshneyrv','nikkuuu17']\n",
    "\n",
    "for i in range (0,len(username)):\n",
    "    obj = {}\n",
    "    obj = {'username':username[i]}\n",
    "    link = \"https://www.instagram.com/\" + username[i]\n",
    "    req = requests.get(link).text\n",
    "    soup = BeautifulSoup(req, \"html.parser\")\n",
    "    for i in soup.find_all('meta') :\n",
    "        try :\n",
    "            if \"Followers\" in i['content']:\n",
    "                data = i['content'].split(\", \")\n",
    "                name = (data[-1].split(\" \")[-3] + \" \" + data[-1].split(\" \")[-2])\n",
    "            obj[\"name\"] = name\n",
    "            obj[\"followers\"] = data[0].split(\" \")[0]\n",
    "            obj[\"following\"] = data[1].split(\" \")[0]\n",
    "            obj[\"post\"] = data[2].split(\" \")[0]\n",
    "            data=''\n",
    "            name=''\n",
    "            break\n",
    "        except :\n",
    "            pass\n",
    "    script = str(soup.find_all('script')[1])\n",
    "    data = json.loads(script[52:-10])\n",
    "    profile = data['entry_data']['ProfilePage']\n",
    "    cnt_likes = 0\n",
    "    cnt_comments = 0\n",
    "    posts_cnt = 0\n",
    "    bio  = ''\n",
    "    for i in profile :\n",
    "        id = i['user']['id']\n",
    "        bio = i['user']['biography']\n",
    "        nodes = i['user']['media']['nodes']\n",
    "        posts_cnt = int(i['user']['media']['count'])\n",
    "        for node in nodes :\n",
    "            comments = node['comments']['count']\n",
    "            likes = node['likes']['count']\n",
    "            cnt_likes = cnt_likes + likes\n",
    "            cnt_comments = cnt_comments+comments\n",
    "    obj[\"bio\"] = bio   \n",
    "    obj[\"avg_likes\"] = cnt_likes/10\n",
    "    obj[\"avg_comments\"] = cnt_comments/10\n",
    "    print(obj)\n",
    "    record.insert(obj)\n",
    "            \n"
   ]
  },
  {
   "cell_type": "code",
   "execution_count": 75,
   "metadata": {},
   "outputs": [
    {
     "name": "stdout",
     "output_type": "stream",
     "text": [
      "{'username': 'sam25malik', 'name': 'Sameer Malik', 'followers': '1,429', 'following': '599', 'post': '18', 'bio': 'Engineer | Developer | Programmer 😎', 'avg_likes': 137.8, 'avg_comments': 5.8}\n"
     ]
    },
    {
     "name": "stderr",
     "output_type": "stream",
     "text": [
      "C:\\ProgramData\\Anaconda3\\lib\\site-packages\\ipykernel_launcher.py:50: DeprecationWarning: insert is deprecated. Use insert_one or insert_many instead.\n"
     ]
    },
    {
     "name": "stdout",
     "output_type": "stream",
     "text": [
      "{'username': 'ezhik_amur', 'name': 'from Ezhik', 'followers': '1,173', 'following': '611', 'post': '180', 'bio': 'Весёлый Ёжик ✌\\nЖиву в Благовещенске🌁\\nЛюблю гулять по городу... и не только💃\\nЕсли хотите увидеть наш город глазами ёжика, то давайте дружить😊', 'avg_likes': 313.3, 'avg_comments': 30.8}\n",
      "{'username': 'priyankak14', 'name': 'Priyanka Khanna', 'followers': '6,051', 'following': '699', 'post': '430', 'bio': 'Associate Fashion Features Director, Vogue India; Mama-roo; Story-teller 💞☕️🏝👶🏼💅💃🏼📖', 'avg_likes': 140.9, 'avg_comments': 6.0}\n",
      "{'username': 'kumarvarun19', 'name': 'Kumar Varun', 'followers': '2,860', 'following': '131', 'post': '433', 'bio': 'I travel , eat , act and watch lot of stuffs . Sometimes I take pics while I do these and they come here with filters.\\nEnquiries: prerna@oml.in', 'avg_likes': 495.3, 'avg_comments': 4.0}\n",
      "{'username': 'sidsince1996', 'name': 'Siddhant Verma', 'followers': '803', 'following': '563', 'post': '136', 'bio': 'Versatile Photographer • BTech IIITD • Nikon D3300\\nNew Delhi, India\\n                           \\nFor shoots/collabs: sidsince1996@gmail.com or DM', 'avg_likes': 153.3, 'avg_comments': 4.3}\n"
     ]
    }
   ],
   "source": [
    "#5 instagram handles with >1000 followers\n",
    "record = db.user_data_1000\n",
    "username = ['sam25malik','ezhik_amur','priyankak14','kumarvarun19','sidsince1996']\n",
    "#sam25malik                 - 1429\n",
    "#ezhik_amur                 - 1175\n",
    "#priyankak14                - 6K\n",
    "#kumarvarun19               - 2816\n",
    "#sidsince1996               - 802\n",
    "for i in range (0,len(username)):\n",
    "    obj = {}\n",
    "    obj = {'username':username[i]}\n",
    "    link = \"https://www.instagram.com/\" + username[i]\n",
    "    req = requests.get(link).text\n",
    "    soup = BeautifulSoup(req, \"html.parser\")\n",
    "    for i in soup.find_all('meta') :\n",
    "        try :\n",
    "            if \"Followers\" in i['content']:\n",
    "                data = i['content'].split(\", \")\n",
    "                name = (data[-1].split(\" \")[-3] + \" \" + data[-1].split(\" \")[-2])\n",
    "            obj[\"name\"] = name\n",
    "            obj[\"followers\"] = data[0].split(\" \")[0]\n",
    "            obj[\"following\"] = data[1].split(\" \")[0]\n",
    "            obj[\"post\"] = data[2].split(\" \")[0]\n",
    "            data=''\n",
    "            name=''\n",
    "            break\n",
    "        except :\n",
    "            pass\n",
    "    script = str(soup.find_all('script')[1])\n",
    "    data = json.loads(script[52:-10])\n",
    "    profile = data['entry_data']['ProfilePage']\n",
    "    cnt_likes = 0\n",
    "    cnt_comments = 0\n",
    "    posts_cnt = 0\n",
    "    bio  = ''\n",
    "    for i in profile :\n",
    "        id = i['user']['id']\n",
    "        bio = i['user']['biography']\n",
    "        nodes = i['user']['media']['nodes']\n",
    "        posts_cnt = int(i['user']['media']['count'])\n",
    "        for node in nodes :\n",
    "            comments = node['comments']['count']\n",
    "            likes = node['likes']['count']\n",
    "            cnt_likes = cnt_likes + likes\n",
    "            cnt_comments = cnt_comments+comments\n",
    "    obj[\"bio\"] = bio   \n",
    "    obj[\"avg_likes\"] = cnt_likes/10\n",
    "    obj[\"avg_comments\"] = cnt_comments/10\n",
    "    print(obj)\n",
    "    record.insert(obj)\n",
    "            \n"
   ]
  },
  {
   "cell_type": "code",
   "execution_count": 76,
   "metadata": {},
   "outputs": [
    {
     "name": "stdout",
     "output_type": "stream",
     "text": [
      "{'username': 'ayush_mehta', 'name': 'from Ayushâ\\x9e°', 'followers': '33k', 'following': '397', 'post': '422', 'bio': 'Sab Moh Maya Hai Bro 🙏🏻\\n👻:- ayushm21 // Twitter:- MehtaAyush20\\nSubscribe to my youtube channel 🤘🏻@Ayushm24 & follow me @musically👇🏻👇🏻👇🏻', 'avg_likes': 5490.9, 'avg_comments': 87.9}\n"
     ]
    },
    {
     "name": "stderr",
     "output_type": "stream",
     "text": [
      "C:\\ProgramData\\Anaconda3\\lib\\site-packages\\ipykernel_launcher.py:50: DeprecationWarning: insert is deprecated. Use insert_one or insert_many instead.\n"
     ]
    },
    {
     "name": "stdout",
     "output_type": "stream",
     "text": [
      "{'username': 'gunjangulatii', 'name': 'Gunjan Gulatið\\x9f\\x91\\x91', 'followers': '18.2k', 'following': '86', 'post': '306', 'bio': 'New Delhi ,India📍\\nFashion Blogger | Influencer.\\nDM or Email for promotions & collaborations.\\n| ৭ઉ |\\n📷Snapchat-gulati010', 'avg_likes': 2228.1, 'avg_comments': 22.1}\n",
      "{'username': 'deyakannesha', 'name': 'Kannesha Suresh', 'followers': '55.5k', 'following': '348', 'post': '966', 'bio': 'South Asian Fashion & Lifestyle Blogger🌻🌸\\n🌎: Toronto\\n💌: DeyaKannesha@outlook.com\\n📖: www.deya.ca\\n👩🏽👨🏽🎥: youtube.com/DeyaExplores\\nHOW I CURL MY HAIR👇🏾🎥', 'avg_likes': 3748.9, 'avg_comments': 29.4}\n",
      "{'username': 'advait_vaidya', 'name': 'Advait Vaidya', 'followers': '64.3k', 'following': '647', 'post': '2,444', 'bio': '#Director🎬 #Adfilmmaker🎥 #Producer🐒 #Filmeditor✂ #FashionPhotographer📷 #Behindthescenes📹 #Vlogger🌍 \\nEnquiries : 📥Dm/📧gheuntak.films@gmail.com', 'avg_likes': 2768.8, 'avg_comments': 13.2}\n",
      "{'username': 'its_saileee95', 'name': 'from Prajakta.S', 'followers': '26.1k', 'following': '538', 'post': '502', 'bio': 'KR 💍\\nDM for collaborations \\nEmail - sailisatwe@gmail.com', 'avg_likes': 2828.2, 'avg_comments': 38.5}\n"
     ]
    }
   ],
   "source": [
    "#5 instagram handles with >10K followers          done\n",
    "record = db.user_data_10k\n",
    "username = ['ayush_mehta','gunjangulatii','deyakannesha','advait_vaidya','its_saileee95']\n",
    "#ayush_mehta                - 32.9K\n",
    "#gunjangulatii              - 18.1K\n",
    "#deyakannesha               - 55.2K\n",
    "#advait_vaidya              - 64K\n",
    "#its_saileee95              - 25K\n",
    "for i in range (0,len(username)):\n",
    "    obj = {}\n",
    "    obj = {'username':username[i]}\n",
    "    link = \"https://www.instagram.com/\" + username[i]\n",
    "    req = requests.get(link).text\n",
    "    soup = BeautifulSoup(req, \"html.parser\")\n",
    "    for i in soup.find_all('meta') :\n",
    "        try :\n",
    "            if \"Followers\" in i['content']:\n",
    "                data = i['content'].split(\", \")\n",
    "                name = (data[-1].split(\" \")[-3] + \" \" + data[-1].split(\" \")[-2])\n",
    "            obj[\"name\"] = name\n",
    "            obj[\"followers\"] = data[0].split(\" \")[0]\n",
    "            obj[\"following\"] = data[1].split(\" \")[0]\n",
    "            obj[\"post\"] = data[2].split(\" \")[0]\n",
    "            data=''\n",
    "            name=''\n",
    "            break\n",
    "        except :\n",
    "            pass\n",
    "    script = str(soup.find_all('script')[1])\n",
    "    data = json.loads(script[52:-10])\n",
    "    profile = data['entry_data']['ProfilePage']\n",
    "    cnt_likes = 0\n",
    "    cnt_comments = 0\n",
    "    posts_cnt = 0\n",
    "    bio  = ''\n",
    "    for i in profile :\n",
    "        id = i['user']['id']\n",
    "        bio = i['user']['biography']\n",
    "        nodes = i['user']['media']['nodes']\n",
    "        posts_cnt = int(i['user']['media']['count'])\n",
    "        for node in nodes :\n",
    "            comments = node['comments']['count']\n",
    "            likes = node['likes']['count']\n",
    "            cnt_likes = cnt_likes + likes\n",
    "            cnt_comments = cnt_comments+comments\n",
    "    obj[\"bio\"] = bio   \n",
    "    obj[\"avg_likes\"] = cnt_likes/10\n",
    "    obj[\"avg_comments\"] = cnt_comments/10\n",
    "    print(obj)\n",
    "    record.insert(obj)\n",
    "            \n"
   ]
  },
  {
   "cell_type": "code",
   "execution_count": 77,
   "metadata": {},
   "outputs": [
    {
     "name": "stdout",
     "output_type": "stream",
     "text": [
      "{'username': 'sirino_er', 'name': 'Å\\x9eirin ErkÄ±lÄ±Ã§', 'followers': '143.7k', 'following': '308', 'post': '124', 'bio': '20yrs|📍Germany | Bollywood | SRK💙| I do not try to dance better than anyone else, I only try to dance better than myself! 💃🏽', 'avg_likes': 12661.0, 'avg_comments': 261.4}\n"
     ]
    },
    {
     "name": "stderr",
     "output_type": "stream",
     "text": [
      "C:\\ProgramData\\Anaconda3\\lib\\site-packages\\ipykernel_launcher.py:50: DeprecationWarning: insert is deprecated. Use insert_one or insert_many instead.\n"
     ]
    },
    {
     "name": "stdout",
     "output_type": "stream",
     "text": [
      "{'username': 'disha.madan', 'name': 'Disha Madan', 'followers': '483.2k', 'following': '38', 'post': '712', 'bio': '• Live • Love • SPARKLE •\\nMusical.ly : @disha.madan\\nSnap : dishaboemadan\\nTwitter : @DishaMadan\\nFounder : DanceCorp', 'avg_likes': 62122.4, 'avg_comments': 229.1}\n",
      "{'username': 'nititaylor', 'name': 'Niti Taylor', 'followers': '887k', 'following': '206', 'post': '1,748', 'bio': 'Twitter: @Niti_Taylor \\nAll shades of dramatic!!', 'avg_likes': 77967.3, 'avg_comments': 1132.9}\n",
      "{'username': 'shetroublemaker', 'name': 'Meghna Kaur', 'followers': '478.6k', 'following': '202', 'post': '548', 'bio': \"Hey there, I make YouTube videos.\\nBe so good, they can't ignore you.\\nSnapchat: 🌈\", 'avg_likes': 53689.6, 'avg_comments': 269.8}\n",
      "{'username': 'asmita_s', 'name': 'Asmita Sood', 'followers': '147.8k', 'following': '183', 'post': '735', 'bio': '📌India Actor•Dreamer•Idealist•Sagittarian•Wanderer•Optimist', 'avg_likes': 4900.8, 'avg_comments': 40.4}\n"
     ]
    }
   ],
   "source": [
    "#5 instagram handles with >100K followers          done\n",
    "record = db.user_data_100k\n",
    "username = ['sirino_er','disha.madan','nititaylor','shetroublemaker','asmita_s']\n",
    "#sirino_er                -  143K\n",
    "#disha.madan              -  482K\n",
    "#nititaylor               -  886K\n",
    "#shetroublemaker          -  478K\n",
    "#asmita_s                 -  147K\n",
    "for i in range (0,len(username)):\n",
    "    obj = {}\n",
    "    obj = {'username':username[i]}\n",
    "    link = \"https://www.instagram.com/\" + username[i]\n",
    "    req = requests.get(link).text\n",
    "    soup = BeautifulSoup(req, \"html.parser\")\n",
    "    for i in soup.find_all('meta') :\n",
    "        try :\n",
    "            if \"Followers\" in i['content']:\n",
    "                data = i['content'].split(\", \")\n",
    "                name = (data[-1].split(\" \")[-3] + \" \" + data[-1].split(\" \")[-2])\n",
    "            obj[\"name\"] = name\n",
    "            obj[\"followers\"] = data[0].split(\" \")[0]\n",
    "            obj[\"following\"] = data[1].split(\" \")[0]\n",
    "            obj[\"post\"] = data[2].split(\" \")[0]\n",
    "            data=''\n",
    "            name=''\n",
    "            break\n",
    "        except :\n",
    "            pass\n",
    "    script = str(soup.find_all('script')[1])\n",
    "    data = json.loads(script[52:-10])\n",
    "    profile = data['entry_data']['ProfilePage']\n",
    "    cnt_likes = 0\n",
    "    cnt_comments = 0\n",
    "    posts_cnt = 0\n",
    "    bio  = ''\n",
    "    for i in profile :\n",
    "        id = i['user']['id']\n",
    "        bio = i['user']['biography']\n",
    "        nodes = i['user']['media']['nodes']\n",
    "        posts_cnt = int(i['user']['media']['count'])\n",
    "        for node in nodes :\n",
    "            comments = node['comments']['count']\n",
    "            likes = node['likes']['count']\n",
    "            cnt_likes = cnt_likes + likes\n",
    "            cnt_comments = cnt_comments+comments\n",
    "    obj[\"bio\"] = bio   \n",
    "    obj[\"avg_likes\"] = cnt_likes/10\n",
    "    obj[\"avg_comments\"] = cnt_comments/10\n",
    "    print(obj)\n",
    "    record.insert(obj)\n",
    "            \n"
   ]
  },
  {
   "cell_type": "code",
   "execution_count": 78,
   "metadata": {},
   "outputs": [
    {
     "name": "stdout",
     "output_type": "stream",
     "text": [
      "{'username': 'katrinakaif', 'name': 'Katrina Kaif', 'followers': '5.4m', 'following': '294', 'post': '147', 'bio': None, 'avg_likes': 460685.4, 'avg_comments': 3023.7}\n"
     ]
    },
    {
     "name": "stderr",
     "output_type": "stream",
     "text": [
      "C:\\ProgramData\\Anaconda3\\lib\\site-packages\\ipykernel_launcher.py:51: DeprecationWarning: insert is deprecated. Use insert_one or insert_many instead.\n"
     ]
    },
    {
     "name": "stdout",
     "output_type": "stream",
     "text": [
      "{'username': 'faroutakhtar', 'name': 'Farhan Akhtar', 'followers': '1.3m', 'following': '45', 'post': '540', 'bio': 'Writer. Director. Actor. Producer. Singer/Songwriter. Founder- Mard Initiative | UN Women Goodwill Ambassador(South Asia)', 'avg_likes': 32219.9, 'avg_comments': 177.9}\n",
      "{'username': 'malaikaarorakhanofficial', 'name': 'Arora Khan', 'followers': '4.5m', 'following': '336', 'post': '1,513', 'bio': '\"Cherish the past,live the present,nurture the future\"', 'avg_likes': 70374.2, 'avg_comments': 424.3}\n",
      "{'username': 'bhuvan.bam22', 'name': 'Bam Official', 'followers': '2.8m', 'following': '51', 'post': '592', 'bio': 'The Only Official Account of Bhuvan Bam. Musician/Youtuber at BB Ki Vines. Snapchat: bbkv22, musical.ly: @bhuvanbam', 'avg_likes': 287193.0, 'avg_comments': 2770.1}\n",
      "{'username': 'thejohnabraham', 'name': 'John Abraham', 'followers': '4.4m', 'following': '3', 'post': '237', 'bio': None, 'avg_likes': 225134.9, 'avg_comments': 689.3}\n"
     ]
    }
   ],
   "source": [
    "#5 instagram handles with >1M followers            done\n",
    "record = db.user_data_1m\n",
    "username = ['katrinakaif','faroutakhtar','malaikaarorakhanofficial','bhuvan.bam22','thejohnabraham']\n",
    "#usernames\n",
    "#katrinakaif             -   5.4M\n",
    "#faroutakhtar            -   1.3M\n",
    "#malaikaarorakhanofficial-   4.5M\n",
    "#bhuvan.bam22            -   2.8M\n",
    "#thejohnabraham          -   4.4M\n",
    "for i in range (0,len(username)):\n",
    "    obj = {}\n",
    "    obj = {'username':username[i]}\n",
    "    link = \"https://www.instagram.com/\" + username[i]\n",
    "    req = requests.get(link).text\n",
    "    soup = BeautifulSoup(req, \"html.parser\")\n",
    "    for i in soup.find_all('meta') :\n",
    "        try :\n",
    "            if \"Followers\" in i['content']:\n",
    "                data = i['content'].split(\", \")\n",
    "                name = (data[-1].split(\" \")[-3] + \" \" + data[-1].split(\" \")[-2])\n",
    "            obj[\"name\"] = name\n",
    "            obj[\"followers\"] = data[0].split(\" \")[0]\n",
    "            obj[\"following\"] = data[1].split(\" \")[0]\n",
    "            obj[\"post\"] = data[2].split(\" \")[0]\n",
    "            data=''\n",
    "            name=''\n",
    "            break\n",
    "        except :\n",
    "            pass\n",
    "    script = str(soup.find_all('script')[1])\n",
    "    data = json.loads(script[52:-10])\n",
    "    profile = data['entry_data']['ProfilePage']\n",
    "    cnt_likes = 0\n",
    "    cnt_comments = 0\n",
    "    posts_cnt = 0\n",
    "    bio  = ''\n",
    "    for i in profile :\n",
    "        id = i['user']['id']\n",
    "        bio = i['user']['biography']\n",
    "        nodes = i['user']['media']['nodes']\n",
    "        posts_cnt = int(i['user']['media']['count'])\n",
    "        for node in nodes :\n",
    "            comments = node['comments']['count']\n",
    "            likes = node['likes']['count']\n",
    "            cnt_likes = cnt_likes + likes\n",
    "            cnt_comments = cnt_comments+comments\n",
    "    obj[\"bio\"] = bio   \n",
    "    obj[\"avg_likes\"] = cnt_likes/10\n",
    "    obj[\"avg_comments\"] = cnt_comments/10\n",
    "    print(obj)\n",
    "    record.insert(obj)\n",
    "            \n"
   ]
  },
  {
   "cell_type": "code",
   "execution_count": 79,
   "metadata": {},
   "outputs": [
    {
     "name": "stdout",
     "output_type": "stream",
     "text": [
      "{'username': 'parineetichopra', 'name': 'Parineeti Chopra', 'followers': '11.1m', 'following': '171', 'post': '627', 'bio': 'Wandering Hedonist 😄 🛫 Snapchat:- ChopraParineeti', 'avg_likes': 285830.5, 'avg_comments': 1041.9}\n"
     ]
    },
    {
     "name": "stderr",
     "output_type": "stream",
     "text": [
      "C:\\ProgramData\\Anaconda3\\lib\\site-packages\\ipykernel_launcher.py:50: DeprecationWarning: insert is deprecated. Use insert_one or insert_many instead.\n"
     ]
    },
    {
     "name": "stdout",
     "output_type": "stream",
     "text": [
      "{'username': 'therock', 'name': 'videos from', 'followers': '94.6m', 'following': '178', 'post': '3,081', 'bio': 'Seven Bucks Companies. Grind. Gratitude.', 'avg_likes': 944158.9, 'avg_comments': 7016.9}\n",
      "{'username': 'emmawatson', 'name': 'Emma Watson', 'followers': '40.2m', 'following': '2', 'post': '61', 'bio': 'Actor & UN WOMEN Global Goodwill Ambassador. Twitter: @EmmaWatson Facebook: @EmmaWatson Goodreads: OurSharedShelf', 'avg_likes': 2481446.0, 'avg_comments': 26913.7}\n",
      "{'username': 'zacefron', 'name': 'Zac Efron', 'followers': '30.7m', 'following': '119', 'post': '454', 'bio': None, 'avg_likes': 1278459.5, 'avg_comments': 5126.6}\n",
      "{'username': 'aliaabhatt', 'name': 'Alia â\\x9c¨â\\xad\\x90ï¸\\x8f', 'followers': '18.3m', 'following': '369', 'post': '1,054', 'bio': 'Moody, Floaty, Fire and DESIRE !', 'avg_likes': 840972.4, 'avg_comments': 3574.5}\n"
     ]
    }
   ],
   "source": [
    "#5 instagram handles with >10M followers            done\n",
    "record = db.user_data_10m\n",
    "username = ['parineetichopra','therock','emmawatson','zacefron','aliaabhatt']\n",
    "#parineetichopra         -  11.1M\n",
    "#therock                 -  94.6M\n",
    "#emmawatson              -  40.2M\n",
    "#zacefron                -  30.7M\n",
    "#aliaabhatt              -  18.3M\n",
    "for i in range (0,len(username)):\n",
    "    obj = {}\n",
    "    obj = {'username':username[i]}\n",
    "    link = \"https://www.instagram.com/\" + username[i]\n",
    "    req = requests.get(link).text\n",
    "    soup = BeautifulSoup(req, \"html.parser\")\n",
    "    for i in soup.find_all('meta') :\n",
    "        try :\n",
    "            if \"Followers\" in i['content']:\n",
    "                data = i['content'].split(\", \")\n",
    "                name = (data[-1].split(\" \")[-3] + \" \" + data[-1].split(\" \")[-2])\n",
    "            obj[\"name\"] = name\n",
    "            obj[\"followers\"] = data[0].split(\" \")[0]\n",
    "            obj[\"following\"] = data[1].split(\" \")[0]\n",
    "            obj[\"post\"] = data[2].split(\" \")[0]\n",
    "            data=''\n",
    "            name=''\n",
    "            break\n",
    "        except :\n",
    "            pass\n",
    "    script = str(soup.find_all('script')[1])\n",
    "    data = json.loads(script[52:-10])\n",
    "    profile = data['entry_data']['ProfilePage']\n",
    "    cnt_likes = 0\n",
    "    cnt_comments = 0\n",
    "    posts_cnt = 0\n",
    "    bio  = ''\n",
    "    for i in profile :\n",
    "        id = i['user']['id']\n",
    "        bio = i['user']['biography']\n",
    "        nodes = i['user']['media']['nodes']\n",
    "        posts_cnt = int(i['user']['media']['count'])\n",
    "        for node in nodes :\n",
    "            comments = node['comments']['count']\n",
    "            likes = node['likes']['count']\n",
    "            cnt_likes = cnt_likes + likes\n",
    "            cnt_comments = cnt_comments+comments\n",
    "    obj[\"bio\"] = bio   \n",
    "    obj[\"avg_likes\"] = cnt_likes/10\n",
    "    obj[\"avg_comments\"] = cnt_comments/10\n",
    "    print(obj)\n",
    "    record.insert(obj)\n",
    "            \n"
   ]
  },
  {
   "cell_type": "code",
   "execution_count": 80,
   "metadata": {},
   "outputs": [
    {
     "name": "stdout",
     "output_type": "stream",
     "text": [
      "{'username': 'cristiano', 'name': 'Cristiano Ronaldo', 'followers': '113.1m', 'following': '388', 'post': '2,035', 'bio': 'Madrid', 'avg_likes': 3507245.6, 'avg_comments': 15294.7}\n"
     ]
    },
    {
     "name": "stderr",
     "output_type": "stream",
     "text": [
      "C:\\ProgramData\\Anaconda3\\lib\\site-packages\\ipykernel_launcher.py:50: DeprecationWarning: insert is deprecated. Use insert_one or insert_many instead.\n"
     ]
    },
    {
     "name": "stdout",
     "output_type": "stream",
     "text": [
      "{'username': 'selenagomez', 'name': 'Selena Gomez', 'followers': '128.4m', 'following': '284', 'post': '1,367', 'bio': '#Fetish Out Now', 'avg_likes': 4063118.4, 'avg_comments': 83963.1}\n",
      "{'username': 'beyonce', 'name': 'from BeyoncÃ©', 'followers': '107.3m', 'following': '0', 'post': '1,522', 'bio': '#LEMONADE', 'avg_likes': 1085277.6, 'avg_comments': 8366.4}\n",
      "{'username': 'arianagrande', 'name': 'Ariana Grande', 'followers': '114.6m', 'following': '1,362', 'post': '3,335', 'bio': 'dangerous woman', 'avg_likes': 2173391.8, 'avg_comments': 33351.0}\n",
      "{'username': 'kimkardashian', 'name': 'Kardashian West', 'followers': '103.8m', 'following': '105', 'post': '3,971', 'bio': None, 'avg_likes': 1619155.6, 'avg_comments': 19488.4}\n"
     ]
    }
   ],
   "source": [
    "#5 instagram handles with >100M followers\n",
    "record = db.user_data_100m\n",
    "username = ['cristiano','selenagomez','beyonce','arianagrande','kimkardashian']\n",
    "#cristiano\n",
    "#selenagomez\n",
    "#beyonce\n",
    "#arianagrande\n",
    "#kimkardashian\n",
    "for i in range (0,len(username)):\n",
    "    obj = {}\n",
    "    obj = {'username':username[i]}\n",
    "    link = \"https://www.instagram.com/\" + username[i]\n",
    "    req = requests.get(link).text\n",
    "    soup = BeautifulSoup(req, \"html.parser\")\n",
    "    for i in soup.find_all('meta') :\n",
    "        try :\n",
    "            if \"Followers\" in i['content']:\n",
    "                data = i['content'].split(\", \")\n",
    "                name = (data[-1].split(\" \")[-3] + \" \" + data[-1].split(\" \")[-2])\n",
    "            obj[\"name\"] = name\n",
    "            obj[\"followers\"] = data[0].split(\" \")[0]\n",
    "            obj[\"following\"] = data[1].split(\" \")[0]\n",
    "            obj[\"post\"] = data[2].split(\" \")[0]\n",
    "            data=''\n",
    "            name=''\n",
    "            break\n",
    "        except :\n",
    "            pass\n",
    "    script = str(soup.find_all('script')[1])\n",
    "    data = json.loads(script[52:-10])\n",
    "    profile = data['entry_data']['ProfilePage']\n",
    "    cnt_likes = 0\n",
    "    cnt_comments = 0\n",
    "    posts_cnt = 0\n",
    "    bio  = ''\n",
    "    for i in profile :\n",
    "        id = i['user']['id']\n",
    "        bio = i['user']['biography']\n",
    "        nodes = i['user']['media']['nodes']\n",
    "        posts_cnt = int(i['user']['media']['count'])\n",
    "        for node in nodes :\n",
    "            comments = node['comments']['count']\n",
    "            likes = node['likes']['count']\n",
    "            cnt_likes = cnt_likes + likes\n",
    "            cnt_comments = cnt_comments+comments\n",
    "    obj[\"bio\"] = bio   \n",
    "    obj[\"avg_likes\"] = cnt_likes/10\n",
    "    obj[\"avg_comments\"] = cnt_comments/10\n",
    "    print(obj)\n",
    "    record.insert(obj)\n",
    "            \n"
   ]
  },
  {
   "cell_type": "code",
   "execution_count": 141,
   "metadata": {},
   "outputs": [
    {
     "name": "stdout",
     "output_type": "stream",
     "text": [
      "{'_id': ObjectId('59e301aea926eb1d84af8741'), 'username': 'ayush_mehta', 'name': 'from Ayushâ\\x9e°', 'followers': '33k', 'following': '397', 'post': '422', 'bio': 'Sab Moh Maya Hai Bro 🙏🏻\\n👻:- ayushm21 // Twitter:- MehtaAyush20\\nSubscribe to my youtube channel 🤘🏻@Ayushm24 & follow me @musically👇🏻👇🏻👇🏻', 'avg_likes': 5490.9, 'avg_comments': 87.9}\n",
      "33000\n",
      "0.16905454545454543\n",
      "{'_id': ObjectId('59e301afa926eb1d84af8742'), 'username': 'gunjangulatii', 'name': 'Gunjan Gulatið\\x9f\\x91\\x91', 'followers': '18.2k', 'following': '86', 'post': '306', 'bio': 'New Delhi ,India📍\\nFashion Blogger | Influencer.\\nDM or Email for promotions & collaborations.\\n| ৭ઉ |\\n📷Snapchat-gulati010', 'avg_likes': 2228.1, 'avg_comments': 22.1}\n"
     ]
    },
    {
     "ename": "ValueError",
     "evalue": "invalid literal for int() with base 10: '18.2'",
     "output_type": "error",
     "traceback": [
      "\u001b[1;31m---------------------------------------------------------------------------\u001b[0m",
      "\u001b[1;31mValueError\u001b[0m                                Traceback (most recent call last)",
      "\u001b[1;32m<ipython-input-141-f88446c8af8a>\u001b[0m in \u001b[0;36m<module>\u001b[1;34m()\u001b[0m\n\u001b[0;32m     26\u001b[0m     \u001b[0mcnt_likes\u001b[0m \u001b[1;33m=\u001b[0m \u001b[0md\u001b[0m\u001b[1;33m[\u001b[0m\u001b[1;34m'avg_likes'\u001b[0m\u001b[1;33m]\u001b[0m \u001b[1;33m+\u001b[0m \u001b[0mcnt_likes\u001b[0m\u001b[1;33m\u001b[0m\u001b[0m\n\u001b[0;32m     27\u001b[0m     \u001b[0mcnt_comments\u001b[0m \u001b[1;33m=\u001b[0m \u001b[0md\u001b[0m\u001b[1;33m[\u001b[0m\u001b[1;34m'avg_comments'\u001b[0m\u001b[1;33m]\u001b[0m \u001b[1;33m+\u001b[0m \u001b[0mcnt_comments\u001b[0m\u001b[1;33m\u001b[0m\u001b[0m\n\u001b[1;32m---> 28\u001b[1;33m     \u001b[0mcnt_followers\u001b[0m \u001b[1;33m=\u001b[0m \u001b[0mconvert\u001b[0m\u001b[1;33m(\u001b[0m\u001b[0md\u001b[0m\u001b[1;33m[\u001b[0m\u001b[1;34m'followers'\u001b[0m\u001b[1;33m]\u001b[0m\u001b[1;33m)\u001b[0m \u001b[1;33m+\u001b[0m \u001b[0mcnt_followers\u001b[0m\u001b[1;33m\u001b[0m\u001b[0m\n\u001b[0m\u001b[0;32m     29\u001b[0m     \u001b[1;31m#cnt_following = convert(d['following'])+ cnt_following\u001b[0m\u001b[1;33m\u001b[0m\u001b[1;33m\u001b[0m\u001b[0m\n\u001b[0;32m     30\u001b[0m     \u001b[0meng_rate\u001b[0m \u001b[1;33m=\u001b[0m \u001b[0meng_rate\u001b[0m \u001b[1;33m+\u001b[0m \u001b[1;33m(\u001b[0m\u001b[1;33m(\u001b[0m\u001b[0mcnt_likes\u001b[0m \u001b[1;33m+\u001b[0m \u001b[0mcnt_comments\u001b[0m\u001b[1;33m)\u001b[0m\u001b[1;33m/\u001b[0m\u001b[0mcnt_followers\u001b[0m\u001b[1;33m)\u001b[0m\u001b[1;33m\u001b[0m\u001b[0m\n",
      "\u001b[1;32m<ipython-input-141-f88446c8af8a>\u001b[0m in \u001b[0;36mconvert\u001b[1;34m(val)\u001b[0m\n\u001b[0;32m      7\u001b[0m         \u001b[1;32mreturn\u001b[0m \u001b[0mint\u001b[0m\u001b[1;33m(\u001b[0m\u001b[0mval\u001b[0m\u001b[1;33m[\u001b[0m\u001b[1;33m:\u001b[0m\u001b[1;33m-\u001b[0m\u001b[1;36m1\u001b[0m\u001b[1;33m]\u001b[0m\u001b[1;33m)\u001b[0m\u001b[1;33m*\u001b[0m\u001b[1;36m1000000\u001b[0m\u001b[1;33m\u001b[0m\u001b[0m\n\u001b[0;32m      8\u001b[0m     \u001b[1;32melif\u001b[0m \u001b[1;34m'k'\u001b[0m \u001b[1;32min\u001b[0m \u001b[0mval\u001b[0m \u001b[1;33m:\u001b[0m\u001b[1;33m\u001b[0m\u001b[0m\n\u001b[1;32m----> 9\u001b[1;33m         \u001b[1;32mreturn\u001b[0m \u001b[0mint\u001b[0m\u001b[1;33m(\u001b[0m\u001b[0mval\u001b[0m\u001b[1;33m[\u001b[0m\u001b[1;33m:\u001b[0m\u001b[1;33m-\u001b[0m\u001b[1;36m1\u001b[0m\u001b[1;33m]\u001b[0m\u001b[1;33m)\u001b[0m\u001b[1;33m*\u001b[0m\u001b[1;36m1000\u001b[0m\u001b[1;33m\u001b[0m\u001b[0m\n\u001b[0m\u001b[0;32m     10\u001b[0m     \u001b[1;32melif\u001b[0m \u001b[1;34m','\u001b[0m \u001b[1;32min\u001b[0m \u001b[0mval\u001b[0m \u001b[1;33m:\u001b[0m\u001b[1;33m\u001b[0m\u001b[0m\n\u001b[0;32m     11\u001b[0m         \u001b[1;32mreturn\u001b[0m \u001b[0mint\u001b[0m\u001b[1;33m(\u001b[0m\u001b[0mval\u001b[0m\u001b[1;33m.\u001b[0m\u001b[0mreplace\u001b[0m\u001b[1;33m(\u001b[0m\u001b[1;34m\",\"\u001b[0m \u001b[1;33m,\u001b[0m \u001b[1;34m\"\"\u001b[0m\u001b[1;33m)\u001b[0m\u001b[1;33m)\u001b[0m\u001b[1;33m\u001b[0m\u001b[0m\n",
      "\u001b[1;31mValueError\u001b[0m: invalid literal for int() with base 10: '18.2'"
     ]
    }
   ],
   "source": [
    "connection = pymongo.MongoClient(\"mongodb://localhost\")\n",
    "db = connection.user_data\n",
    "\n",
    "record = db.user_data_10k\n",
    "def convert(val):\n",
    "    if 'm' in val :\n",
    "        return int(val[:-1])*1000000\n",
    "    elif 'k' in val :\n",
    "        return int(val[:-1])*1000\n",
    "    elif ',' in val :\n",
    "        return int(val.replace(\",\" , \"\"))\n",
    "    else:\n",
    "        return int(val)\n",
    "\n",
    "\n",
    "data = record.find()\n",
    "count = 0\n",
    "cnt_likes = 0\n",
    "cnt_comments = 0\n",
    "cnt_followers = 0\n",
    "cnt_following = 0\n",
    "eng_rate = 0\n",
    "for d in data:\n",
    "    print(d)\n",
    "    count = count +1\n",
    "    cnt_likes = d['avg_likes'] + cnt_likes\n",
    "    cnt_comments = d['avg_comments'] + cnt_comments\n",
    "    cnt_followers = convert(d['followers']) + cnt_followers\n",
    "    #cnt_following = convert(d['following'])+ cnt_following\n",
    "    eng_rate = eng_rate + ((cnt_likes + cnt_comments)/cnt_followers)\n",
    "    print(cnt_followers)\n",
    "    print(eng_rate)\n",
    "    #print(cnt_following)\n",
    "\n",
    "print(cnt_likes/count)\n",
    "print(cnt_comments/count)\n",
    "print(cnt_followers/count)\n",
    "#print(cnt_following/count)\n",
    "avg_l = cnt_likes/count\n",
    "avg_c = cnt_comments/count\n",
    "avg_f = cnt_followers/count\n",
    "print(eng_rate/count)"
   ]
  },
  {
   "cell_type": "code",
   "execution_count": null,
   "metadata": {
    "collapsed": true
   },
   "outputs": [],
   "source": []
  }
 ],
 "metadata": {
  "kernelspec": {
   "display_name": "Python 3",
   "language": "python",
   "name": "python3"
  },
  "language_info": {
   "codemirror_mode": {
    "name": "ipython",
    "version": 3
   },
   "file_extension": ".py",
   "mimetype": "text/x-python",
   "name": "python",
   "nbconvert_exporter": "python",
   "pygments_lexer": "ipython3",
   "version": "3.6.1"
  }
 },
 "nbformat": 4,
 "nbformat_minor": 2
}
